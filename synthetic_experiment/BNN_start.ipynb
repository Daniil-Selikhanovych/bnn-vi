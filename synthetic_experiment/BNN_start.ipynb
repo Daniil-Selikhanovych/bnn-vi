{
  "nbformat": 4,
  "nbformat_minor": 0,
  "metadata": {
    "kernelspec": {
      "display_name": "Python 3",
      "language": "python",
      "name": "python3"
    },
    "language_info": {
      "codemirror_mode": {
        "name": "ipython",
        "version": 3
      },
      "file_extension": ".py",
      "mimetype": "text/x-python",
      "name": "python",
      "nbconvert_exporter": "python",
      "pygments_lexer": "ipython3",
      "version": "3.8.3"
    },
    "colab": {
      "name": "BNN_start.ipynb",
      "provenance": []
    },
    "accelerator": "GPU"
  },
  "cells": [
    {
      "cell_type": "markdown",
      "metadata": {
        "id": "eIIIjz9hyUBZ",
        "colab_type": "text"
      },
      "source": [
        "# Notebook with training BNN on synthetic data"
      ]
    },
    {
      "cell_type": "markdown",
      "metadata": {
        "id": "XthgyJxdyUBb",
        "colab_type": "text"
      },
      "source": [
        "## Synthetic data"
      ]
    },
    {
      "cell_type": "code",
      "metadata": {
        "id": "ft9pswAn1xYH",
        "colab_type": "code",
        "outputId": "32f7f973-da3d-404e-ccfa-1c3b3be00fae",
        "colab": {
          "base_uri": "https://localhost:8080/",
          "height": 887
        }
      },
      "source": [
        "!pip install pyro-ppl gpflow"
      ],
      "execution_count": 1,
      "outputs": [
        {
          "output_type": "stream",
          "text": [
            "Requirement already satisfied: pyro-ppl in /usr/local/lib/python3.6/dist-packages (1.3.1)\n",
            "Requirement already satisfied: gpflow in /usr/local/lib/python3.6/dist-packages (2.0.4)\n",
            "Requirement already satisfied: pyro-api>=0.1.1 in /usr/local/lib/python3.6/dist-packages (from pyro-ppl) (0.1.2)\n",
            "Requirement already satisfied: numpy>=1.7 in /usr/local/lib/python3.6/dist-packages (from pyro-ppl) (1.18.4)\n",
            "Requirement already satisfied: tqdm>=4.36 in /usr/local/lib/python3.6/dist-packages (from pyro-ppl) (4.41.1)\n",
            "Requirement already satisfied: torch>=1.4.0 in /usr/local/lib/python3.6/dist-packages (from pyro-ppl) (1.5.0+cu101)\n",
            "Requirement already satisfied: opt-einsum>=2.3.2 in /usr/local/lib/python3.6/dist-packages (from pyro-ppl) (3.2.1)\n",
            "Requirement already satisfied: tensorflow>=2.1.0 in /usr/local/lib/python3.6/dist-packages (from gpflow) (2.2.0)\n",
            "Requirement already satisfied: tensorflow-probability>=0.9 in /usr/local/lib/python3.6/dist-packages (from gpflow) (0.10.0)\n",
            "Requirement already satisfied: scipy>=0.18.0 in /usr/local/lib/python3.6/dist-packages (from gpflow) (1.4.1)\n",
            "Requirement already satisfied: tabulate in /usr/local/lib/python3.6/dist-packages (from gpflow) (0.8.7)\n",
            "Requirement already satisfied: typing-extensions in /usr/local/lib/python3.6/dist-packages (from gpflow) (3.6.6)\n",
            "Requirement already satisfied: multipledispatch>=0.6 in /usr/local/lib/python3.6/dist-packages (from gpflow) (0.6.0)\n",
            "Requirement already satisfied: dataclasses in /usr/local/lib/python3.6/dist-packages (from gpflow) (0.7)\n",
            "Requirement already satisfied: future in /usr/local/lib/python3.6/dist-packages (from torch>=1.4.0->pyro-ppl) (0.16.0)\n",
            "Requirement already satisfied: protobuf>=3.8.0 in /usr/local/lib/python3.6/dist-packages (from tensorflow>=2.1.0->gpflow) (3.10.0)\n",
            "Requirement already satisfied: h5py<2.11.0,>=2.10.0 in /usr/local/lib/python3.6/dist-packages (from tensorflow>=2.1.0->gpflow) (2.10.0)\n",
            "Requirement already satisfied: absl-py>=0.7.0 in /usr/local/lib/python3.6/dist-packages (from tensorflow>=2.1.0->gpflow) (0.9.0)\n",
            "Requirement already satisfied: tensorboard<2.3.0,>=2.2.0 in /usr/local/lib/python3.6/dist-packages (from tensorflow>=2.1.0->gpflow) (2.2.1)\n",
            "Requirement already satisfied: tensorflow-estimator<2.3.0,>=2.2.0 in /usr/local/lib/python3.6/dist-packages (from tensorflow>=2.1.0->gpflow) (2.2.0)\n",
            "Requirement already satisfied: grpcio>=1.8.6 in /usr/local/lib/python3.6/dist-packages (from tensorflow>=2.1.0->gpflow) (1.29.0)\n",
            "Requirement already satisfied: google-pasta>=0.1.8 in /usr/local/lib/python3.6/dist-packages (from tensorflow>=2.1.0->gpflow) (0.2.0)\n",
            "Requirement already satisfied: keras-preprocessing>=1.1.0 in /usr/local/lib/python3.6/dist-packages (from tensorflow>=2.1.0->gpflow) (1.1.2)\n",
            "Requirement already satisfied: six>=1.12.0 in /usr/local/lib/python3.6/dist-packages (from tensorflow>=2.1.0->gpflow) (1.12.0)\n",
            "Requirement already satisfied: wheel>=0.26; python_version >= \"3\" in /usr/local/lib/python3.6/dist-packages (from tensorflow>=2.1.0->gpflow) (0.34.2)\n",
            "Requirement already satisfied: gast==0.3.3 in /usr/local/lib/python3.6/dist-packages (from tensorflow>=2.1.0->gpflow) (0.3.3)\n",
            "Requirement already satisfied: wrapt>=1.11.1 in /usr/local/lib/python3.6/dist-packages (from tensorflow>=2.1.0->gpflow) (1.12.1)\n",
            "Requirement already satisfied: termcolor>=1.1.0 in /usr/local/lib/python3.6/dist-packages (from tensorflow>=2.1.0->gpflow) (1.1.0)\n",
            "Requirement already satisfied: astunparse==1.6.3 in /usr/local/lib/python3.6/dist-packages (from tensorflow>=2.1.0->gpflow) (1.6.3)\n",
            "Requirement already satisfied: decorator in /usr/local/lib/python3.6/dist-packages (from tensorflow-probability>=0.9->gpflow) (4.4.2)\n",
            "Requirement already satisfied: cloudpickle>=1.2.2 in /usr/local/lib/python3.6/dist-packages (from tensorflow-probability>=0.9->gpflow) (1.3.0)\n",
            "Requirement already satisfied: setuptools in /usr/local/lib/python3.6/dist-packages (from protobuf>=3.8.0->tensorflow>=2.1.0->gpflow) (46.4.0)\n",
            "Requirement already satisfied: requests<3,>=2.21.0 in /usr/local/lib/python3.6/dist-packages (from tensorboard<2.3.0,>=2.2.0->tensorflow>=2.1.0->gpflow) (2.23.0)\n",
            "Requirement already satisfied: werkzeug>=0.11.15 in /usr/local/lib/python3.6/dist-packages (from tensorboard<2.3.0,>=2.2.0->tensorflow>=2.1.0->gpflow) (1.0.1)\n",
            "Requirement already satisfied: google-auth-oauthlib<0.5,>=0.4.1 in /usr/local/lib/python3.6/dist-packages (from tensorboard<2.3.0,>=2.2.0->tensorflow>=2.1.0->gpflow) (0.4.1)\n",
            "Requirement already satisfied: tensorboard-plugin-wit>=1.6.0 in /usr/local/lib/python3.6/dist-packages (from tensorboard<2.3.0,>=2.2.0->tensorflow>=2.1.0->gpflow) (1.6.0.post3)\n",
            "Requirement already satisfied: google-auth<2,>=1.6.3 in /usr/local/lib/python3.6/dist-packages (from tensorboard<2.3.0,>=2.2.0->tensorflow>=2.1.0->gpflow) (1.7.2)\n",
            "Requirement already satisfied: markdown>=2.6.8 in /usr/local/lib/python3.6/dist-packages (from tensorboard<2.3.0,>=2.2.0->tensorflow>=2.1.0->gpflow) (3.2.2)\n",
            "Requirement already satisfied: chardet<4,>=3.0.2 in /usr/local/lib/python3.6/dist-packages (from requests<3,>=2.21.0->tensorboard<2.3.0,>=2.2.0->tensorflow>=2.1.0->gpflow) (3.0.4)\n",
            "Requirement already satisfied: certifi>=2017.4.17 in /usr/local/lib/python3.6/dist-packages (from requests<3,>=2.21.0->tensorboard<2.3.0,>=2.2.0->tensorflow>=2.1.0->gpflow) (2020.4.5.1)\n",
            "Requirement already satisfied: idna<3,>=2.5 in /usr/local/lib/python3.6/dist-packages (from requests<3,>=2.21.0->tensorboard<2.3.0,>=2.2.0->tensorflow>=2.1.0->gpflow) (2.9)\n",
            "Requirement already satisfied: urllib3!=1.25.0,!=1.25.1,<1.26,>=1.21.1 in /usr/local/lib/python3.6/dist-packages (from requests<3,>=2.21.0->tensorboard<2.3.0,>=2.2.0->tensorflow>=2.1.0->gpflow) (1.24.3)\n",
            "Requirement already satisfied: requests-oauthlib>=0.7.0 in /usr/local/lib/python3.6/dist-packages (from google-auth-oauthlib<0.5,>=0.4.1->tensorboard<2.3.0,>=2.2.0->tensorflow>=2.1.0->gpflow) (1.3.0)\n",
            "Requirement already satisfied: cachetools<3.2,>=2.0.0 in /usr/local/lib/python3.6/dist-packages (from google-auth<2,>=1.6.3->tensorboard<2.3.0,>=2.2.0->tensorflow>=2.1.0->gpflow) (3.1.1)\n",
            "Requirement already satisfied: rsa<4.1,>=3.1.4 in /usr/local/lib/python3.6/dist-packages (from google-auth<2,>=1.6.3->tensorboard<2.3.0,>=2.2.0->tensorflow>=2.1.0->gpflow) (4.0)\n",
            "Requirement already satisfied: pyasn1-modules>=0.2.1 in /usr/local/lib/python3.6/dist-packages (from google-auth<2,>=1.6.3->tensorboard<2.3.0,>=2.2.0->tensorflow>=2.1.0->gpflow) (0.2.8)\n",
            "Requirement already satisfied: importlib-metadata; python_version < \"3.8\" in /usr/local/lib/python3.6/dist-packages (from markdown>=2.6.8->tensorboard<2.3.0,>=2.2.0->tensorflow>=2.1.0->gpflow) (1.6.0)\n",
            "Requirement already satisfied: oauthlib>=3.0.0 in /usr/local/lib/python3.6/dist-packages (from requests-oauthlib>=0.7.0->google-auth-oauthlib<0.5,>=0.4.1->tensorboard<2.3.0,>=2.2.0->tensorflow>=2.1.0->gpflow) (3.1.0)\n",
            "Requirement already satisfied: pyasn1>=0.1.3 in /usr/local/lib/python3.6/dist-packages (from rsa<4.1,>=3.1.4->google-auth<2,>=1.6.3->tensorboard<2.3.0,>=2.2.0->tensorflow>=2.1.0->gpflow) (0.4.8)\n",
            "Requirement already satisfied: zipp>=0.5 in /usr/local/lib/python3.6/dist-packages (from importlib-metadata; python_version < \"3.8\"->markdown>=2.6.8->tensorboard<2.3.0,>=2.2.0->tensorflow>=2.1.0->gpflow) (3.1.0)\n"
          ],
          "name": "stdout"
        }
      ]
    },
    {
      "cell_type": "code",
      "metadata": {
        "id": "7wVln8CIyUBc",
        "colab_type": "code",
        "colab": {}
      },
      "source": [
        "import numpy as np\n",
        "import torch\n",
        "from torch import nn\n",
        "import torch.nn.functional as F\n",
        "import torch.optim as optim\n",
        "import torchvision\n",
        "from torchvision import datasets, transforms\n",
        "from torch.utils.data import DataLoader\n",
        "import pyro\n",
        "from pyro.distributions import Normal, Categorical\n",
        "from pyro.infer import SVI, Trace_ELBO\n",
        "from pyro.optim import Adam\n",
        "import matplotlib.pyplot as plt\n",
        "import random\n",
        "import gpflow\n",
        "import tensorflow as tf\n",
        "from api.data_sampling import (gaussian_sampler_2d, \n",
        "                               gaussian_data_sampling,\n",
        "                               gaussian_mixture_data_sampling,\n",
        "                               plot_2d_data,\n",
        "                               plot_1d_label_data,\n",
        "                               plot_variance_and_mean)"
      ],
      "execution_count": 0,
      "outputs": []
    },
    {
      "cell_type": "markdown",
      "metadata": {
        "id": "OVGkrLA_yUBh",
        "colab_type": "text"
      },
      "source": [
        "## Constants"
      ]
    },
    {
      "cell_type": "code",
      "metadata": {
        "id": "smIUgJ3hyUBh",
        "colab_type": "code",
        "colab": {}
      },
      "source": [
        "num_hidden_neurons = 50\n",
        "sigma_b = 1.0\n",
        "mean = 0.0\n",
        "sigma_w = [4.0, 3.0, 2.25, 2.0, 2.0, 1.9, 1.75, 1.75, 1.7, 1.65]\n",
        "sigma_likelihood = 0.1"
      ],
      "execution_count": 0,
      "outputs": []
    },
    {
      "cell_type": "markdown",
      "metadata": {
        "id": "5XHt1tW2yUBl",
        "colab_type": "text"
      },
      "source": [
        "## Example of training BNNs"
      ]
    },
    {
      "cell_type": "code",
      "metadata": {
        "id": "lNE1tti3yUBm",
        "colab_type": "code",
        "outputId": "c7db11b4-d85c-435e-d2aa-d230b3eac469",
        "colab": {
          "referenced_widgets": [
            "9381eef3760d485b81eac81fa4dbee54",
            "1720fcc6639b4dc6b9d24003236b17c6",
            "4443d9752e0244b59d7614dda09990dd",
            "f751ba86ddbb486c9338b6aeddf62c81"
          ]
        }
      },
      "source": [
        "class NN(nn.Module):\n",
        "    def __init__(self, input_size, hidden_size, output_size):\n",
        "        super(NN, self).__init__()\n",
        "        self.fc1 = nn.Linear(input_size, hidden_size)\n",
        "        self.out = nn.Linear(hidden_size, output_size)\n",
        "        \n",
        "    def forward(self, x):\n",
        "        output = self.fc1(x)\n",
        "        output = F.relu(output)\n",
        "        output = self.out(output)\n",
        "        return output\n",
        "\n",
        "train_loader = torch.utils.data.DataLoader(\n",
        "        datasets.MNIST('mnist-data/', train=True, download=True,\n",
        "                       transform=transforms.Compose([transforms.ToTensor(),])),\n",
        "        batch_size=128, shuffle=True)\n",
        "\n",
        "test_loader = torch.utils.data.DataLoader(\n",
        "        datasets.MNIST('mnist-data/', train=False, transform=transforms.Compose([transforms.ToTensor(),])\n",
        "                       ),\n",
        "        batch_size=128, shuffle=True)\n",
        "\n",
        "net = NN(28*28, 1024, 10)"
      ],
      "execution_count": 0,
      "outputs": [
        {
          "output_type": "stream",
          "text": [
            "Downloading http://yann.lecun.com/exdb/mnist/train-images-idx3-ubyte.gz to mnist-data/MNIST/raw/train-images-idx3-ubyte.gz\n"
          ],
          "name": "stdout"
        },
        {
          "output_type": "display_data",
          "data": {
            "application/vnd.jupyter.widget-view+json": {
              "model_id": "9381eef3760d485b81eac81fa4dbee54",
              "version_major": 2,
              "version_minor": 0
            },
            "text/plain": [
              "HBox(children=(FloatProgress(value=1.0, bar_style='info', max=1.0), HTML(value='')))"
            ]
          },
          "metadata": {
            "tags": []
          }
        },
        {
          "output_type": "stream",
          "text": [
            "Extracting mnist-data/MNIST/raw/train-images-idx3-ubyte.gz\n",
            "Downloading http://yann.lecun.com/exdb/mnist/train-labels-idx1-ubyte.gz to mnist-data/MNIST/raw/train-labels-idx1-ubyte.gz\n"
          ],
          "name": "stdout"
        },
        {
          "output_type": "display_data",
          "data": {
            "application/vnd.jupyter.widget-view+json": {
              "model_id": "1720fcc6639b4dc6b9d24003236b17c6",
              "version_major": 2,
              "version_minor": 0
            },
            "text/plain": [
              "HBox(children=(FloatProgress(value=1.0, bar_style='info', max=1.0), HTML(value='')))"
            ]
          },
          "metadata": {
            "tags": []
          }
        },
        {
          "output_type": "stream",
          "text": [
            "Extracting mnist-data/MNIST/raw/train-labels-idx1-ubyte.gz\n",
            "Downloading http://yann.lecun.com/exdb/mnist/t10k-images-idx3-ubyte.gz to mnist-data/MNIST/raw/t10k-images-idx3-ubyte.gz\n"
          ],
          "name": "stdout"
        },
        {
          "output_type": "display_data",
          "data": {
            "application/vnd.jupyter.widget-view+json": {
              "model_id": "4443d9752e0244b59d7614dda09990dd",
              "version_major": 2,
              "version_minor": 0
            },
            "text/plain": [
              "HBox(children=(FloatProgress(value=1.0, bar_style='info', max=1.0), HTML(value='')))"
            ]
          },
          "metadata": {
            "tags": []
          }
        },
        {
          "output_type": "stream",
          "text": [
            "Extracting mnist-data/MNIST/raw/t10k-images-idx3-ubyte.gz\n",
            "Downloading http://yann.lecun.com/exdb/mnist/t10k-labels-idx1-ubyte.gz to mnist-data/MNIST/raw/t10k-labels-idx1-ubyte.gz\n"
          ],
          "name": "stdout"
        },
        {
          "output_type": "display_data",
          "data": {
            "application/vnd.jupyter.widget-view+json": {
              "model_id": "f751ba86ddbb486c9338b6aeddf62c81",
              "version_major": 2,
              "version_minor": 0
            },
            "text/plain": [
              "HBox(children=(FloatProgress(value=1.0, bar_style='info', max=1.0), HTML(value='')))"
            ]
          },
          "metadata": {
            "tags": []
          }
        },
        {
          "output_type": "stream",
          "text": [
            "Extracting mnist-data/MNIST/raw/t10k-labels-idx1-ubyte.gz\n",
            "Processing...\n"
          ],
          "name": "stdout"
        },
        {
          "output_type": "stream",
          "text": [
            "../torch/csrc/utils/tensor_numpy.cpp:135: UserWarning: The given NumPy array is not writeable, and PyTorch does not support non-writeable tensors. This means you can write to the underlying (supposedly non-writeable) NumPy array using the tensor. You may want to copy the array to protect its data or make it writeable before converting it to a tensor. This type of warning will be suppressed for the rest of this program.\n"
          ],
          "name": "stderr"
        },
        {
          "output_type": "stream",
          "text": [
            "Done!\n"
          ],
          "name": "stdout"
        }
      ]
    },
    {
      "cell_type": "code",
      "metadata": {
        "id": "9t7PlNznyUBq",
        "colab_type": "code",
        "colab": {}
      },
      "source": [
        "log_softmax = nn.LogSoftmax(dim=1)\n",
        "\n",
        "def model(x_data, y_data):\n",
        "    \n",
        "    fc1w_prior = Normal(loc=torch.zeros_like(net.fc1.weight), scale=torch.ones_like(net.fc1.weight))\n",
        "    fc1b_prior = Normal(loc=torch.zeros_like(net.fc1.bias), scale=torch.ones_like(net.fc1.bias))\n",
        "    \n",
        "    outw_prior = Normal(loc=torch.zeros_like(net.out.weight), scale=torch.ones_like(net.out.weight))\n",
        "    outb_prior = Normal(loc=torch.zeros_like(net.out.bias), scale=torch.ones_like(net.out.bias))\n",
        "    \n",
        "    priors = {'fc1.weight': fc1w_prior, 'fc1.bias': fc1b_prior,  \n",
        "              'out.weight': outw_prior, 'out.bias': outb_prior}\n",
        "    \n",
        "    # lift module parameters to random variables sampled from the priors\n",
        "    lifted_module = pyro.random_module(\"module\", net, priors)\n",
        "    # sample a regressor (which also samples w and b)\n",
        "    lifted_reg_model = lifted_module()\n",
        "    \n",
        "    lhat = log_softmax(lifted_reg_model(x_data))\n",
        "    \n",
        "    pyro.sample(\"obs\", Categorical(logits=lhat), obs=y_data)"
      ],
      "execution_count": 0,
      "outputs": []
    },
    {
      "cell_type": "code",
      "metadata": {
        "id": "8vbJyJWgyUBt",
        "colab_type": "code",
        "colab": {}
      },
      "source": [
        "softplus = torch.nn.Softplus()\n",
        "\n",
        "def guide(x_data, y_data):\n",
        "    \n",
        "    # First layer weight distribution priors\n",
        "    fc1w_mu = torch.randn_like(net.fc1.weight)\n",
        "    fc1w_sigma = torch.randn_like(net.fc1.weight)\n",
        "    fc1w_mu_param = pyro.param(\"fc1w_mu\", fc1w_mu)\n",
        "    fc1w_sigma_param = softplus(pyro.param(\"fc1w_sigma\", fc1w_sigma))\n",
        "    fc1w_prior = Normal(loc=fc1w_mu_param, scale=fc1w_sigma_param)\n",
        "    # First layer bias distribution priors\n",
        "    fc1b_mu = torch.randn_like(net.fc1.bias)\n",
        "    fc1b_sigma = torch.randn_like(net.fc1.bias)\n",
        "    fc1b_mu_param = pyro.param(\"fc1b_mu\", fc1b_mu)\n",
        "    fc1b_sigma_param = softplus(pyro.param(\"fc1b_sigma\", fc1b_sigma))\n",
        "    fc1b_prior = Normal(loc=fc1b_mu_param, scale=fc1b_sigma_param)\n",
        "    # Output layer weight distribution priors\n",
        "    outw_mu = torch.randn_like(net.out.weight)\n",
        "    outw_sigma = torch.randn_like(net.out.weight)\n",
        "    outw_mu_param = pyro.param(\"outw_mu\", outw_mu)\n",
        "    outw_sigma_param = softplus(pyro.param(\"outw_sigma\", outw_sigma))\n",
        "    outw_prior = Normal(loc=outw_mu_param, scale=outw_sigma_param).independent(1)\n",
        "    # Output layer bias distribution priors\n",
        "    outb_mu = torch.randn_like(net.out.bias)\n",
        "    outb_sigma = torch.randn_like(net.out.bias)\n",
        "    outb_mu_param = pyro.param(\"outb_mu\", outb_mu)\n",
        "    outb_sigma_param = softplus(pyro.param(\"outb_sigma\", outb_sigma))\n",
        "    outb_prior = Normal(loc=outb_mu_param, scale=outb_sigma_param)\n",
        "    priors = {'fc1.weight': fc1w_prior, 'fc1.bias': fc1b_prior, 'out.weight': outw_prior, 'out.bias': outb_prior}\n",
        "    \n",
        "    lifted_module = pyro.random_module(\"module\", net, priors)\n",
        "    \n",
        "    return lifted_module()"
      ],
      "execution_count": 0,
      "outputs": []
    },
    {
      "cell_type": "code",
      "metadata": {
        "id": "Ml-ixYAZyUBx",
        "colab_type": "code",
        "colab": {}
      },
      "source": [
        "optim = Adam({\"lr\": 0.01})\n",
        "svi = SVI(model, guide, optim, loss=Trace_ELBO())"
      ],
      "execution_count": 0,
      "outputs": []
    },
    {
      "cell_type": "code",
      "metadata": {
        "id": "1f60fkJ5yUB1",
        "colab_type": "code",
        "outputId": "9b4c39db-b3bd-4675-b66b-16f9bc060c5a",
        "colab": {}
      },
      "source": [
        "num_iterations = 5\n",
        "loss = 0\n",
        "\n",
        "for j in range(num_iterations):\n",
        "    loss = 0\n",
        "    for batch_id, data in enumerate(train_loader):\n",
        "        # calculate the loss and take a gradient step\n",
        "        loss += svi.step(data[0].view(-1,28*28), data[1])\n",
        "    normalizer_train = len(train_loader.dataset)\n",
        "    total_epoch_loss_train = loss / normalizer_train\n",
        "    \n",
        "    print(\"Epoch \", j, \" Loss \", total_epoch_loss_train)"
      ],
      "execution_count": 0,
      "outputs": [
        {
          "output_type": "stream",
          "text": [
            "/usr/lib/python3.8/site-packages/pyro/primitives.py:345: FutureWarning: The `random_module` primitive is deprecated, and will be removed in a future release. Use `pyro.nn.Module` to create Bayesian modules from `torch.nn.Module` instances.\n",
            "  warnings.warn(\"The `random_module` primitive is deprecated, and will be removed \"\n"
          ],
          "name": "stderr"
        },
        {
          "output_type": "stream",
          "text": [
            "Epoch  0  Loss  2107.1220911803402\n",
            "Epoch  1  Loss  380.54651705376307\n",
            "Epoch  2  Loss  161.62863537081083\n",
            "Epoch  3  Loss  112.13573915656407\n",
            "Epoch  4  Loss  96.76344890074729\n"
          ],
          "name": "stdout"
        }
      ]
    },
    {
      "cell_type": "code",
      "metadata": {
        "id": "YSCOqIryyUB4",
        "colab_type": "code",
        "outputId": "293598d9-e6ee-4b93-e4bb-4d07b708b25c",
        "colab": {}
      },
      "source": [
        "num_samples = 10\n",
        "def predict(x):\n",
        "    sampled_models = [guide(None, None) for _ in range(num_samples)]\n",
        "    yhats = [model(x).data for model in sampled_models]\n",
        "    mean = torch.mean(torch.stack(yhats), 0)\n",
        "    return torch.argmax(mean, axis=1)\n",
        "\n",
        "print('Prediction when network is forced to predict')\n",
        "correct = 0\n",
        "total = 0\n",
        "for j, data in enumerate(test_loader):\n",
        "    images, labels = data\n",
        "    predicted = predict(images.view(-1,28*28))\n",
        "    total += labels.size(0).float()\n",
        "    correct += (predicted == labels).sum().item()\n",
        "print(\"accuracy: %d %%\" % (100 * correct / total))"
      ],
      "execution_count": 0,
      "outputs": [
        {
          "output_type": "stream",
          "text": [
            "Prediction when network is forced to predict\n",
            "accuracy: 88 %\n"
          ],
          "name": "stdout"
        }
      ]
    },
    {
      "cell_type": "code",
      "metadata": {
        "id": "KOyBKoZdyUB7",
        "colab_type": "code",
        "colab": {}
      },
      "source": [
        "classes = ('0', '1', '2', '3',\n",
        "           '4', '5', '6', '7', '8', '9')"
      ],
      "execution_count": 0,
      "outputs": []
    },
    {
      "cell_type": "code",
      "metadata": {
        "id": "cNDIC6u-yUB9",
        "colab_type": "code",
        "colab": {}
      },
      "source": [
        "def imshow(img):\n",
        "    img = img / 2 + 0.5     # unnormalize\n",
        "    npimg = img.numpy()\n",
        "    #plt.imshow(npimg,  cmap='gray')\n",
        "    #fig.show(figsize=(1,1))\n",
        "    \n",
        "    fig, ax = plt.subplots(figsize=(1, 1))\n",
        "    ax.imshow(npimg,  cmap='gray', interpolation='nearest')\n",
        "    plt.show()"
      ],
      "execution_count": 0,
      "outputs": []
    },
    {
      "cell_type": "code",
      "metadata": {
        "id": "nzG1ENTqyUCA",
        "colab_type": "code",
        "colab": {}
      },
      "source": [
        "num_samples = 100\n",
        "def give_uncertainities(x):\n",
        "    sampled_models = [guide(None, None) for _ in range(num_samples)]\n",
        "    yhats = [F.log_softmax(model(x.view(-1,28*28)).data, 1).detach().numpy() for model in sampled_models]\n",
        "    return np.asarray(yhats)"
      ],
      "execution_count": 0,
      "outputs": []
    },
    {
      "cell_type": "code",
      "metadata": {
        "id": "ezYzXGsOyUCE",
        "colab_type": "code",
        "colab": {}
      },
      "source": [
        "def test_batch(images, labels, plot=True):\n",
        "    y = give_uncertainities(images)\n",
        "    predicted_for_images = 0\n",
        "    correct_predictions = 0\n",
        "\n",
        "    for i in range(len(labels)):\n",
        "    \n",
        "        if(plot):\n",
        "            print(\"Real: \",labels[i].item())\n",
        "            fig, axs = plt.subplots(1, 10, sharey=True,figsize=(20,2))\n",
        "    \n",
        "        all_digits_prob = []\n",
        "    \n",
        "        highted_something = False\n",
        "    \n",
        "        for j in range(len(classes)):\n",
        "        \n",
        "            highlight=False\n",
        "        \n",
        "            histo = []\n",
        "            histo_exp = []\n",
        "        \n",
        "            for z in range(y.shape[0]):\n",
        "                histo.append(y[z][i][j])\n",
        "                histo_exp.append(np.exp(y[z][i][j]))\n",
        "            \n",
        "            prob = np.percentile(histo_exp, 50) #sampling median probability\n",
        "        \n",
        "            if(prob>0.2): #select if network thinks this sample is 20% chance of this being a label\n",
        "                highlight = True #possibly an answer\n",
        "        \n",
        "            all_digits_prob.append(prob)\n",
        "            \n",
        "            if(plot):\n",
        "            \n",
        "                N, bins, patches = axs[j].hist(histo, bins=8, color = \"lightgray\", lw=0,  weights=np.ones(len(histo)) / len(histo), density=False)\n",
        "                axs[j].set_title(str(j)+\" (\"+str(round(prob,2))+\")\") \n",
        "        \n",
        "            if(highlight):\n",
        "            \n",
        "                highted_something = True\n",
        "                \n",
        "                if(plot):\n",
        "\n",
        "                    # We'll color code by height, but you could use any scalar\n",
        "                    fracs = N / N.max()\n",
        "\n",
        "                    # we need to normalize the data to 0..1 for the full range of the colormap\n",
        "                    norm = colors.Normalize(fracs.min(), fracs.max())\n",
        "\n",
        "                    # Now, we'll loop through our objects and set the color of each accordingly\n",
        "                    for thisfrac, thispatch in zip(fracs, patches):\n",
        "                        color = plt.cm.viridis(norm(thisfrac))\n",
        "                        thispatch.set_facecolor(color)\n",
        "\n",
        "    \n",
        "        if(plot):\n",
        "            plt.show()\n",
        "    \n",
        "        predicted = np.argmax(all_digits_prob)\n",
        "    \n",
        "        if(highted_something):\n",
        "            predicted_for_images+=1\n",
        "            if(labels[i].item()==predicted):\n",
        "                if(plot):\n",
        "                    print(\"Correct\")\n",
        "                correct_predictions +=1.0\n",
        "            else:\n",
        "                if(plot):\n",
        "                    print(\"Incorrect :()\")\n",
        "        else:\n",
        "            if(plot):\n",
        "                print(\"Undecided.\")\n",
        "        \n",
        "        if(plot):\n",
        "            imshow(images[i].squeeze())\n",
        "        \n",
        "    \n",
        "    if(plot):\n",
        "        print(\"Summary\")\n",
        "        print(\"Total images: \",len(labels))\n",
        "        print(\"Predicted for: \",predicted_for_images)\n",
        "        print(\"Accuracy when predicted: \",correct_predictions/predicted_for_images)\n",
        "        \n",
        "    return len(labels), correct_predictions, predicted_for_images"
      ],
      "execution_count": 0,
      "outputs": []
    },
    {
      "cell_type": "code",
      "metadata": {
        "id": "iSXJTGnEyUCG",
        "colab_type": "code",
        "outputId": "770bb492-8703-4390-d75e-1f5a6576cb89",
        "colab": {}
      },
      "source": [
        "print('Prediction when network can refuse')\n",
        "correct = 0\n",
        "total = 0\n",
        "total_predicted_for = 0\n",
        "for j, data in enumerate(test_loader):\n",
        "    images, labels = data\n",
        "    \n",
        "    total_minibatch, correct_minibatch, predictions_minibatch = test_batch(images, labels, plot=False)\n",
        "    total += total_minibatch\n",
        "    correct += correct_minibatch\n",
        "    total_predicted_for += predictions_minibatch\n",
        "\n",
        "print(\"Total images: \", total)\n",
        "print(\"Skipped: \", total-total_predicted_for)\n",
        "print(\"Accuracy when made predictions: %d %%\" % (100 * correct / total_predicted_for))"
      ],
      "execution_count": 0,
      "outputs": [
        {
          "output_type": "stream",
          "text": [
            "Prediction when network can refuse\n",
            "Total images:  10000\n",
            "Skipped:  1347\n",
            "Accuracy when made predictions: 95 %\n"
          ],
          "name": "stdout"
        }
      ]
    },
    {
      "cell_type": "markdown",
      "metadata": {
        "id": "KsN0MJRb3AVw",
        "colab_type": "text"
      },
      "source": [
        "## Synthetic 1D data and fitting GP"
      ]
    },
    {
      "cell_type": "code",
      "metadata": {
        "id": "wWrorrIkyUCJ",
        "colab_type": "code",
        "colab": {}
      },
      "source": [
        "gaussian_centers = torch.Tensor([[-1.0/(2**0.5)], [1.0/(2**0.5)]])\n",
        "data_num = 100\n",
        "sigma = 0.01\n",
        "init_cov_matrix = torch.eye(1)\n",
        "cov_matrix_default = sigma*init_cov_matrix\n",
        "seed = 42\n",
        "data_1d = gaussian_mixture_data_sampling(gaussian_centers, cov_matrix_default, \n",
        "                                         data_num, seed)"
      ],
      "execution_count": 0,
      "outputs": []
    },
    {
      "cell_type": "code",
      "metadata": {
        "id": "8ONGdiUGFdgL",
        "colab_type": "code",
        "colab": {}
      },
      "source": [
        "def model_1d(data):\n",
        "    real_labels = torch.sin(12*data) + 0.66*torch.cos(25*data) + 3\n",
        "    return real_labels\n",
        "\n",
        "def noise_labels_model(real_labels, seed = None):\n",
        "    loc = 0.   # mean zero\n",
        "    scale = 1.\n",
        "    normal = torch.distributions.Normal(loc, scale) # create a normal distribution object\n",
        "    if seed is not None:\n",
        "        random.seed(seed)\n",
        "        np.random.seed(seed)\n",
        "        torch.manual_seed(seed)\n",
        "        torch.backends.cudnn.deterministic = True\n",
        "    x = normal.rsample([real_labels.shape[0]]) \n",
        "    real_labels = real_labels + x*0.1\n",
        "    return real_labels\n",
        "\n",
        "real_labels = model_1d(data_1d[:, 0])\n",
        "noise_labels =  noise_labels_model(real_labels, seed = seed).reshape((real_labels.shape[0], 1))\n",
        "range_for_real_labels = torch.linspace(-1, 1, steps = 1000)\n",
        "real_labels_range = model_1d(range_for_real_labels)"
      ],
      "execution_count": 0,
      "outputs": []
    },
    {
      "cell_type": "code",
      "metadata": {
        "id": "9xYlaW6TBU7T",
        "colab_type": "code",
        "colab": {
          "base_uri": "https://localhost:8080/",
          "height": 406
        },
        "outputId": "c10b9146-002e-4c88-cc84-9b6b773d21f1"
      },
      "source": [
        "model_name = r'$Y = \\sin(12 \\cdot X) + 0.66\\cos(25 \\cdot X) + 3 + 0.1 \\mathcal{N}(0, 1)$'\n",
        "plot_1d_label_data(data_1d[:, 0], range_for_real_labels, real_labels_range, \n",
        "                   noise_labels[:, 0], model_name, figsize = (12, 6))"
      ],
      "execution_count": 27,
      "outputs": [
        {
          "output_type": "display_data",
          "data": {
            "image/png": "[encoded data removed]",
            "text/plain": [
              "<Figure size 864x432 with 1 Axes>"
            ]
          },
          "metadata": {
            "tags": [],
            "needs_background": "light"
          }
        }
      ]
    },
    {
      "cell_type": "code",
      "metadata": {
        "id": "Ypgo17o8IpCR",
        "colab_type": "code",
        "colab": {
          "base_uri": "https://localhost:8080/",
          "height": 34
        },
        "outputId": "89ad6d42-3f3e-4258-f1cd-563dbe6e8af1"
      },
      "source": [
        "k = gpflow.kernels.Matern52(1, lengthscales=0.3)\n",
        "m = gpflow.models.GPR(data=(data_1d, noise_labels), kernel=k, mean_function=None)\n",
        "m.likelihood.variance.assign(0.01)\n",
        "m.kernel.lengthscales.assign(0.3)"
      ],
      "execution_count": 28,
      "outputs": [
        {
          "output_type": "execute_result",
          "data": {
            "text/plain": [
              "<tf.Variable 'UnreadVariable' shape=() dtype=float64, numpy=-1.0502256128148466>"
            ]
          },
          "metadata": {
            "tags": []
          },
          "execution_count": 28
        }
      ]
    },
    {
      "cell_type": "code",
      "metadata": {
        "id": "3AbSacaZMRiY",
        "colab_type": "code",
        "colab": {}
      },
      "source": [
        "opt = gpflow.optimizers.Scipy()"
      ],
      "execution_count": 0,
      "outputs": []
    },
    {
      "cell_type": "code",
      "metadata": {
        "id": "RFuTEHWrOqFS",
        "colab_type": "code",
        "colab": {}
      },
      "source": [
        "opt_logs = opt.minimize(m.training_loss, m.trainable_variables, options=dict(maxiter=100))"
      ],
      "execution_count": 0,
      "outputs": []
    },
    {
      "cell_type": "code",
      "metadata": {
        "id": "lFe1TeufOseP",
        "colab_type": "code",
        "colab": {
          "base_uri": "https://localhost:8080/",
          "height": 406
        },
        "outputId": "ed828896-9e61-4b15-a86b-ef71b208b2fc"
      },
      "source": [
        "## predict mean and variance of latent GP at test points\n",
        "xx = np.asarray(range_for_real_labels.reshape(1000, 1).numpy(), \n",
        "                dtype = 'float64')\n",
        "#xx = np.linspace(-0.1, 1.1, 100).reshape(100, 1)\n",
        "mean, var = m.predict_f(xx)\n",
        "\n",
        "plot_1d_label_data(data = data_1d[:, 0], \n",
        "                   range_for_real_labels = range_for_real_labels, \n",
        "                   real_labels = real_labels_range, \n",
        "                   noise_labels = noise_labels[:, 0], \n",
        "                   model_name = model_name, figsize = (12, 6),\n",
        "                   range_for_prediction = xx[:, 0],\n",
        "                   mean_prediction = mean[:, 0],\n",
        "                   var_prediction = var[:, 0],\n",
        "                   model_prediction_name = 'GP')"
      ],
      "execution_count": 31,
      "outputs": [
        {
          "output_type": "display_data",
          "data": {
            "image/png": "[encoded data removed]",
            "text/plain": [
              "<Figure size 864x432 with 1 Axes>"
            ]
          },
          "metadata": {
            "tags": [],
            "needs_background": "light"
          }
        }
      ]
    },
    {
      "cell_type": "code",
      "metadata": {
        "id": "cK8xCx_Azsd4",
        "colab_type": "code",
        "colab": {
          "base_uri": "https://localhost:8080/",
          "height": 404
        },
        "outputId": "a6c062f8-2359-4c71-8512-c13b5a77a049"
      },
      "source": [
        "N = 100\n",
        "grid = np.linspace(-1, 1, num = N).reshape((N, 1))\n",
        "mean_gp_grid, var_gp_grid = m.predict_f(grid)\n",
        "plot_variance_and_mean(grid[:, 0], target_variance = var_gp_grid[:, 0])"
      ],
      "execution_count": 32,
      "outputs": [
        {
          "output_type": "display_data",
          "data": {
            "image/png": "[encoded data removed]",
            "text/plain": [
              "<Figure size 864x432 with 1 Axes>"
            ]
          },
          "metadata": {
            "tags": [],
            "needs_background": "light"
          }
        }
      ]
    },
    {
      "cell_type": "markdown",
      "metadata": {
        "id": "flTPPSqKJGrP",
        "colab_type": "text"
      },
      "source": [
        "## Training 1HL BNN "
      ]
    },
    {
      "cell_type": "code",
      "metadata": {
        "id": "D_fZGhDAJRBL",
        "colab_type": "code",
        "colab": {}
      },
      "source": [
        "class HiddenNN(nn.Module):\n",
        "    def __init__(self, input_size, num_layers, hidden_size, output_size):\n",
        "        super(HiddenNN, self).__init__()\n",
        "        self.fc1 = nn.Linear(input_size, hidden_size)\n",
        "        self.hidden_layers = nn.ModuleList([nn.Linear(hidden_size, hidden_size) \n",
        "                                            for i in range(num_layers - 1)])\n",
        "        self.out = nn.Linear(hidden_size, output_size)\n",
        "        \n",
        "    def forward(self, x):\n",
        "        output = self.fc1(x)\n",
        "        output = F.relu(output)\n",
        "        for layer in self.hidden_layers:\n",
        "            output = layer(output)\n",
        "            output = F.relu(output)            \n",
        "        output = self.out(output)\n",
        "        return output\n"
      ],
      "execution_count": 0,
      "outputs": []
    },
    {
      "cell_type": "code",
      "metadata": {
        "id": "CfxzvTvdRQxt",
        "colab_type": "code",
        "colab": {}
      },
      "source": [
        "net = HiddenNN(input_size = 1, num_layers = 1, hidden_size = 50, output_size = 1)"
      ],
      "execution_count": 0,
      "outputs": []
    },
    {
      "cell_type": "code",
      "metadata": {
        "id": "c7xdRxuHRSZX",
        "colab_type": "code",
        "colab": {}
      },
      "source": [
        "output = net(torch.Tensor(grid))"
      ],
      "execution_count": 0,
      "outputs": []
    },
    {
      "cell_type": "code",
      "metadata": {
        "id": "bWytzVLzTUye",
        "colab_type": "code",
        "colab": {}
      },
      "source": [
        "def model(x_data, y_data):\n",
        "    \n",
        "    fc1w_prior = Normal(loc=torch.zeros_like(net.fc1.weight), scale=torch.ones_like(net.fc1.weight))\n",
        "    fc1b_prior = Normal(loc=torch.zeros_like(net.fc1.bias), scale=torch.ones_like(net.fc1.bias))\n",
        "    \n",
        "    outw_prior = Normal(loc=torch.zeros_like(net.out.weight), scale=torch.ones_like(net.out.weight))\n",
        "    outb_prior = Normal(loc=torch.zeros_like(net.out.bias), scale=torch.ones_like(net.out.bias))\n",
        "    \n",
        "    priors = {'fc1.weight': fc1w_prior, 'fc1.bias': fc1b_prior,  \n",
        "              'out.weight': outw_prior, 'out.bias': outb_prior}\n",
        "    \n",
        "    # lift module parameters to random variables sampled from the priors\n",
        "    lifted_module = pyro.random_module(\"module\", net, priors)\n",
        "    # sample a regressor (which also samples w and b)\n",
        "    lifted_reg_model = lifted_module()\n",
        "    \n",
        "    lhat = log_softmax(lifted_reg_model(x_data))\n",
        "    \n",
        "    pyro.sample(\"obs\", Categorical(logits=lhat), obs=y_data)"
      ],
      "execution_count": 0,
      "outputs": []
    },
    {
      "cell_type": "code",
      "metadata": {
        "id": "QGNS3mIaXACw",
        "colab_type": "code",
        "colab": {}
      },
      "source": [
        "def guide(x_data, y_data):\n",
        "    \n",
        "    # First layer weight distribution priors\n",
        "    fc1w_mu = torch.randn_like(net.fc1.weight)\n",
        "    fc1w_sigma = torch.randn_like(net.fc1.weight)\n",
        "    fc1w_mu_param = pyro.param(\"fc1w_mu\", fc1w_mu)\n",
        "    fc1w_sigma_param = softplus(pyro.param(\"fc1w_sigma\", fc1w_sigma))\n",
        "    fc1w_prior = Normal(loc=fc1w_mu_param, scale=fc1w_sigma_param)\n",
        "    # First layer bias distribution priors\n",
        "    fc1b_mu = torch.randn_like(net.fc1.bias)\n",
        "    fc1b_sigma = torch.randn_like(net.fc1.bias)\n",
        "    fc1b_mu_param = pyro.param(\"fc1b_mu\", fc1b_mu)\n",
        "    fc1b_sigma_param = softplus(pyro.param(\"fc1b_sigma\", fc1b_sigma))\n",
        "    fc1b_prior = Normal(loc=fc1b_mu_param, scale=fc1b_sigma_param)\n",
        "    # Output layer weight distribution priors\n",
        "    outw_mu = torch.randn_like(net.out.weight)\n",
        "    outw_sigma = torch.randn_like(net.out.weight)\n",
        "    outw_mu_param = pyro.param(\"outw_mu\", outw_mu)\n",
        "    outw_sigma_param = softplus(pyro.param(\"outw_sigma\", outw_sigma))\n",
        "    outw_prior = Normal(loc=outw_mu_param, scale=outw_sigma_param).independent(1)\n",
        "    # Output layer bias distribution priors\n",
        "    outb_mu = torch.randn_like(net.out.bias)\n",
        "    outb_sigma = torch.randn_like(net.out.bias)\n",
        "    outb_mu_param = pyro.param(\"outb_mu\", outb_mu)\n",
        "    outb_sigma_param = softplus(pyro.param(\"outb_sigma\", outb_sigma))\n",
        "    outb_prior = Normal(loc=outb_mu_param, scale=outb_sigma_param)\n",
        "    priors = {'fc1.weight': fc1w_prior, 'fc1.bias': fc1b_prior, 'out.weight': outw_prior, 'out.bias': outb_prior}\n",
        "    \n",
        "    lifted_module = pyro.random_module(\"module\", net, priors)\n",
        "    \n",
        "    return lifted_module()"
      ],
      "execution_count": 0,
      "outputs": []
    }
  ]
}